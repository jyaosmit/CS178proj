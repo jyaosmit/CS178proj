{
 "cells": [
  {
   "cell_type": "code",
   "execution_count": 2,
   "id": "450fe9da-67fc-4121-b593-4095f58af1b8",
   "metadata": {},
   "outputs": [
    {
     "name": "stdout",
     "output_type": "stream",
     "text": [
      "start\n",
      "imported\n",
      "done\n"
     ]
    }
   ],
   "source": [
    "print('start')\n",
    "\n",
    "import tensorflow as tf\n",
    "\n",
    "print('imported')\n",
    "\n",
    "(X_tr, y_tr), (X_te, y_te) = tf.keras.datasets.fashion_mnist.load_data()\n",
    "\n",
    "print('done')"
   ]
  },
  {
   "cell_type": "code",
   "execution_count": 3,
   "id": "06bcf68f-af53-4e73-ae1a-912cc54550a7",
   "metadata": {},
   "outputs": [
    {
     "name": "stdout",
     "output_type": "stream",
     "text": [
      "[9 0 0 ... 3 0 5]\n"
     ]
    }
   ],
   "source": [
    "print(y_tr)"
   ]
  },
  {
   "cell_type": "code",
   "execution_count": null,
   "id": "e93383e8-e9ce-4915-a6aa-777c77b86cbd",
   "metadata": {},
   "outputs": [],
   "source": []
  }
 ],
 "metadata": {
  "kernelspec": {
   "display_name": "firstEnv",
   "language": "python",
   "name": "firstenv"
  },
  "language_info": {
   "codemirror_mode": {
    "name": "ipython",
    "version": 3
   },
   "file_extension": ".py",
   "mimetype": "text/x-python",
   "name": "python",
   "nbconvert_exporter": "python",
   "pygments_lexer": "ipython3",
   "version": "3.10.11"
  }
 },
 "nbformat": 4,
 "nbformat_minor": 5
}
